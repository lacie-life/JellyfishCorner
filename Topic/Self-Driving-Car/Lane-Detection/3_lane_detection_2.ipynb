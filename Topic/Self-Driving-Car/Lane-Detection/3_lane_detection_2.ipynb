{
 "cells": [
  {
   "cell_type": "code",
   "execution_count": null,
   "metadata": {},
   "outputs": [],
   "source": [
    "#Importing openCV\n",
    "import cv2\n",
    "\n",
    "#Displaying image\n",
    "\n",
    "image = cv2.imread('test_image.jpg')\n",
    "cv2.imshow('input_image', image)\n",
    "cv2.waitKey(0)\n",
    "cv2.destroyAllWindows()"
   ]
  },
  {
   "cell_type": "markdown",
   "metadata": {},
   "source": [
    "### Converting the image to grayscale"
   ]
  },
  {
   "cell_type": "code",
   "execution_count": null,
   "metadata": {},
   "outputs": [],
   "source": [
    "import cv2\n",
    "import numpy as np"
   ]
  },
  {
   "cell_type": "code",
   "execution_count": null,
   "metadata": {},
   "outputs": [],
   "source": [
    "image = cv2.imread('test_image.jpg')"
   ]
  },
  {
   "cell_type": "code",
   "execution_count": null,
   "metadata": {},
   "outputs": [],
   "source": [
    "lanelines_image = np.copy(image)"
   ]
  },
  {
   "cell_type": "code",
   "execution_count": null,
   "metadata": {},
   "outputs": [],
   "source": [
    "gray_conversion= cv2.cvtColor(lanelines_image, cv2.COLOR_RGB2GRAY)"
   ]
  },
  {
   "cell_type": "code",
   "execution_count": null,
   "metadata": {},
   "outputs": [],
   "source": [
    "#Displaying grayscale image\n",
    "\n",
    "cv2.imshow('input_image', gray_conversion)\n",
    "cv2.waitKey(0)\n",
    "cv2.destroyAllWindows()"
   ]
  },
  {
   "cell_type": "code",
   "execution_count": null,
   "metadata": {},
   "outputs": [],
   "source": [
    "#Smoothing the image \n",
    "\n",
    "import cv2\n",
    "import numpy as np"
   ]
  },
  {
   "cell_type": "code",
   "execution_count": null,
   "metadata": {},
   "outputs": [],
   "source": [
    "image = cv2.imread('test_image.jpg')\n",
    "lanelines_image = np.copy(image)"
   ]
  },
  {
   "cell_type": "code",
   "execution_count": null,
   "metadata": {},
   "outputs": [],
   "source": [
    "gray_conversion= cv2.cvtColor(lanelines_image, cv2.COLOR_RGB2GRAY)"
   ]
  },
  {
   "cell_type": "code",
   "execution_count": null,
   "metadata": {},
   "outputs": [],
   "source": [
    "blur_conversion = cv2.GaussianBlur(gray_conversion, (5,5),0)"
   ]
  },
  {
   "cell_type": "code",
   "execution_count": null,
   "metadata": {},
   "outputs": [],
   "source": [
    "cv2.imshow('input_image', blur_conversion)\n",
    "cv2.waitKey(0)\n",
    "cv2.destroyAllWindows()"
   ]
  },
  {
   "cell_type": "markdown",
   "metadata": {},
   "source": [
    "### Canny edge detection"
   ]
  },
  {
   "cell_type": "code",
   "execution_count": null,
   "metadata": {},
   "outputs": [],
   "source": [
    "import cv2\n",
    "import numpy as np"
   ]
  },
  {
   "cell_type": "code",
   "execution_count": null,
   "metadata": {},
   "outputs": [],
   "source": [
    "image = cv2.imread('test_image.jpg')"
   ]
  },
  {
   "cell_type": "code",
   "execution_count": null,
   "metadata": {},
   "outputs": [],
   "source": [
    "lanelines_image = np.copy(image)"
   ]
  },
  {
   "cell_type": "code",
   "execution_count": null,
   "metadata": {},
   "outputs": [],
   "source": [
    "gray_conversion= cv2.cvtColor(lanelines_image, cv2.COLOR_RGB2GRAY)"
   ]
  },
  {
   "cell_type": "code",
   "execution_count": null,
   "metadata": {},
   "outputs": [],
   "source": [
    "blur_conversion = cv2.GaussianBlur(gray_conversion, (5,5),0)"
   ]
  },
  {
   "cell_type": "code",
   "execution_count": null,
   "metadata": {},
   "outputs": [],
   "source": [
    "canny_conversion = cv2.Canny(blur_conversion, 50,155)"
   ]
  },
  {
   "cell_type": "code",
   "execution_count": null,
   "metadata": {},
   "outputs": [],
   "source": [
    "cv2.imshow('input_image', canny_conversion)\n",
    "cv2.waitKey(0)\n",
    "cv2.destroyAllWindows()"
   ]
  },
  {
   "cell_type": "markdown",
   "metadata": {},
   "source": [
    "### Masking the region of interest"
   ]
  },
  {
   "cell_type": "code",
   "execution_count": null,
   "metadata": {},
   "outputs": [],
   "source": [
    "import cv2\n",
    "import numpy as np\n",
    "import matplotlib.pyplot as plt\n"
   ]
  },
  {
   "cell_type": "code",
   "execution_count": null,
   "metadata": {},
   "outputs": [],
   "source": [
    "def canny_edge(image):\n",
    "          gray_conversion= cv2.cvtColor(image, cv2.COLOR_RGB2GRAY)\n",
    "          blur_conversion = cv2.GaussianBlur(gray_conversion, (5,5),0)\n",
    "          canny_conversion = cv2.Canny(blur_conversion, 50,150)\n",
    "          return canny_conversion\n"
   ]
  },
  {
   "cell_type": "code",
   "execution_count": null,
   "metadata": {},
   "outputs": [],
   "source": [
    "def reg_of_interest(image):\n",
    "        Image_height = image.shape[0]\n",
    "        polygons = np.array([[(200, Image_height), (1100, Image_height), (550, 250)]])\n",
    "        image_mask = np.zeros_like(image)\n",
    "        cv2.fillPoly(image_mask, polygons, 255)\n",
    "        return image_mask"
   ]
  },
  {
   "cell_type": "code",
   "execution_count": null,
   "metadata": {},
   "outputs": [],
   "source": [
    "image = cv2.imread('test_image.jpg')\n",
    "lanelines_image = np.copy(image)\n",
    "canny_conversion = canny_edge(lanelines_image)"
   ]
  },
  {
   "cell_type": "code",
   "execution_count": null,
   "metadata": {},
   "outputs": [],
   "source": [
    "cv2.imshow('result', reg_of_interest(canny_conversion))\n",
    "cv2.waitKey(0)\n",
    "cv2.destroyAllWindows()"
   ]
  },
  {
   "cell_type": "code",
   "execution_count": null,
   "metadata": {},
   "outputs": [],
   "source": [
    "# Applying bitwise_and\n",
    "\n",
    "import cv2\n",
    "import numpy as np\n",
    "import matplotlib.pyplot as plt\n"
   ]
  },
  {
   "cell_type": "code",
   "execution_count": null,
   "metadata": {},
   "outputs": [],
   "source": [
    "def canny_edge(image):\n",
    "         gray_conversion= cv2.cvtColor(image, cv2.COLOR_RGB2GRAY)\n",
    "         blur_conversion = cv2.GaussianBlur(gray_conversion, (5,5),0)\n",
    "         canny_conversion = cv2.Canny(blur_conversion, 50,150)\n",
    "         return canny_conversion"
   ]
  },
  {
   "cell_type": "code",
   "execution_count": null,
   "metadata": {},
   "outputs": [],
   "source": [
    "def reg_of_interest(image):\n",
    "         image_height = image.shape[0]\n",
    "         polygons = np.array([[(200, image_height), (1100, image_height), (551, 250)]])\n",
    "         image_mask = np.zeros_like(image)\n",
    "         cv2.fillPoly(image_mask, polygons, 255)\n",
    "         masking_image = cv2.bitwise_and(image,image_mask)\n",
    "         return masking_image"
   ]
  },
  {
   "cell_type": "code",
   "execution_count": null,
   "metadata": {},
   "outputs": [],
   "source": [
    "image = cv2.imread('test_image.jpg')"
   ]
  },
  {
   "cell_type": "code",
   "execution_count": null,
   "metadata": {},
   "outputs": [],
   "source": [
    "lanelines_image = np.copy(image)"
   ]
  },
  {
   "cell_type": "code",
   "execution_count": null,
   "metadata": {},
   "outputs": [],
   "source": [
    "canny_conversion = canny_edge(lanelines_image)"
   ]
  },
  {
   "cell_type": "code",
   "execution_count": null,
   "metadata": {},
   "outputs": [],
   "source": [
    "cropped_image = reg_of_interest(canny_conversion)"
   ]
  },
  {
   "cell_type": "code",
   "execution_count": null,
   "metadata": {},
   "outputs": [],
   "source": [
    "cv2.imshow('result', cropped_image)\n",
    "cv2.waitKey(0)\n",
    "cv2.destroyAllWindows()"
   ]
  },
  {
   "cell_type": "code",
   "execution_count": null,
   "metadata": {},
   "outputs": [],
   "source": [
    "#Applying the Hough transform\n",
    "\n",
    "import cv2\n",
    "import numpy as np\n",
    "import matplotlib.pyplot as plt"
   ]
  },
  {
   "cell_type": "code",
   "execution_count": null,
   "metadata": {},
   "outputs": [],
   "source": [
    "def canny_egde(image):\n",
    "         gray_conversion= cv2.cvtColor(image, cv2.COLOR_RGB2GRAY)\n",
    "         blur_conversion = cv2.GaussianBlur(gray_conversion, (5,5),0)\n",
    "         canny_conversion = cv2.Canny(blur_conversion, 50,150)\n",
    "         return canny_conversion"
   ]
  },
  {
   "cell_type": "code",
   "execution_count": null,
   "metadata": {},
   "outputs": [],
   "source": [
    "def reg_of_interest(image):\n",
    "         image_height = image.shape[0]\n",
    "         polygons = np.array([[(200, image_height), (1100, image_height), (551, 250)]])\n",
    "         image_mask = np.zeros_like(image)\n",
    "         cv2.fillPoly(image_mask, polygons, 255)\n",
    "         masking_image = cv2.bitwise_and(image,image_mask)\n",
    "         return masking_image"
   ]
  },
  {
   "cell_type": "code",
   "execution_count": null,
   "metadata": {},
   "outputs": [],
   "source": [
    "def show_lines(image, lines):\n",
    "            lines_image = np.zeros_like(image)\n",
    "            if lines is not None:\n",
    "                for line in lines:\n",
    "                    X1, Y1, X2, Y2 = line.reshape(4)\n",
    "                    cv2.line(lines_image, (X1, Y1), (X2, Y2), (255,0,0), 10)\n",
    "            return lines_image"
   ]
  },
  {
   "cell_type": "code",
   "execution_count": null,
   "metadata": {},
   "outputs": [],
   "source": [
    "image = cv2.imread('test_image.jpg')"
   ]
  },
  {
   "cell_type": "code",
   "execution_count": null,
   "metadata": {},
   "outputs": [],
   "source": [
    "lanelines_image = np.copy(image)"
   ]
  },
  {
   "cell_type": "code",
   "execution_count": null,
   "metadata": {},
   "outputs": [],
   "source": [
    "canny_conv = canny_edge(lanelines_image)"
   ]
  },
  {
   "cell_type": "code",
   "execution_count": null,
   "metadata": {},
   "outputs": [],
   "source": [
    "cropped_image = reg_of_interest(canny_conv)"
   ]
  },
  {
   "cell_type": "code",
   "execution_count": null,
   "metadata": {},
   "outputs": [],
   "source": [
    "lane_lines = cv2.HoughLinesP(cropped_image, 2, np.pi/180, 100, np.array([]), minLineLength= 40, maxLineGap=5)"
   ]
  },
  {
   "cell_type": "code",
   "execution_count": null,
   "metadata": {},
   "outputs": [],
   "source": [
    "linelines_image = show_lines(lanelines_image, lane_lines)"
   ]
  },
  {
   "cell_type": "code",
   "execution_count": null,
   "metadata": {},
   "outputs": [],
   "source": [
    "cv2.imshow('result', linelines_image)\n",
    "cv2.waitKey(0)\n",
    "cv2.destroyAllWindows()"
   ]
  },
  {
   "cell_type": "code",
   "execution_count": null,
   "metadata": {},
   "outputs": [],
   "source": [
    "#Combining with actual image\n",
    "\n",
    "image = cv2.imread('test_image.jpg')\n",
    "lane_image = np.copy(image)\n",
    "canny = canny_edge(lane_image)\n",
    "cropped_image = reg_of_interest(canny)\n",
    "lines = cv2.HoughLinesP(cropped_image, 2, np.pi/180, 100, np.array([]), minLineLength= 40, maxLineGap=5)\n",
    "line_image = show_lines(lane_image, lines)\n",
    "combine_image = cv2.addWeighted(lane_image, 0.8, line_image, 1, 1)\n"
   ]
  },
  {
   "cell_type": "code",
   "execution_count": null,
   "metadata": {},
   "outputs": [],
   "source": [
    "cv2.imshow('result', combine_image)\n",
    "cv2.waitKey(0)\n",
    "cv2.destroyAllWindows()"
   ]
  },
  {
   "cell_type": "markdown",
   "metadata": {},
   "source": [
    "### Detect road marking in images"
   ]
  },
  {
   "cell_type": "code",
   "execution_count": null,
   "metadata": {},
   "outputs": [],
   "source": [
    "#Optimization the detected road markings\n",
    "\n",
    "import cv2\n",
    "import numpy as np\n",
    "import matplotlib.pyplot as plt"
   ]
  },
  {
   "cell_type": "code",
   "execution_count": null,
   "metadata": {},
   "outputs": [],
   "source": [
    "def make_coordinates(image, line_parameters):\n",
    "          slope, intercept = line_parameters\n",
    "          y1 = image.shape[0]\n",
    "          y2 = int(y1*(3/5))\n",
    "          x1 = int((y1- intercept)/slope)\n",
    "          x2 = int((y2 - intercept)/slope)\n",
    "          return np.array([x1, y1, x2, y2])"
   ]
  },
  {
   "cell_type": "code",
   "execution_count": null,
   "metadata": {},
   "outputs": [],
   "source": [
    "def average_slope_intercept(image, lines):\n",
    "          left_fit = []\n",
    "          right_fit = []\n",
    "          for line in lines:\n",
    "            x1, y1, x2, y2 = line.reshape(4)\n",
    "            parameter = np.polyfit((x1, x2), (y1, y2), 1)\n",
    "            slope = parameter[0]\n",
    "            intercept = parameter[1]\n",
    "            if slope < 0:\n",
    "              left_fit.append((slope, intercept))\n",
    "            else:\n",
    "              right_fit.append((slope, intercept))\n",
    "          left_fit_average =np.average(left_fit, axis=0)\n",
    "          right_fit_average = np.average(right_fit, axis =0)\n",
    "          left_line =make_coordinates(image, left_fit_average)\n",
    "          right_line = make_coordinates(image, right_fit_average)\n",
    "  \n",
    "          return np.array([left_line, right_line])"
   ]
  },
  {
   "cell_type": "code",
   "execution_count": null,
   "metadata": {},
   "outputs": [],
   "source": [
    "def canny_edge(image):\n",
    "         gray_coversion= cv2.cvtColor(image, cv2.COLOR_RGB2GRAY)\n",
    "         blur_conversion = cv2.GaussianBlur(gray_conversion, (5,5),0)\n",
    "         canny_conversion = cv2.Canny(blur_conversion, 50,150)\n",
    "         return canny_conversion"
   ]
  },
  {
   "cell_type": "code",
   "execution_count": null,
   "metadata": {},
   "outputs": [],
   "source": [
    "def show_lines(image, lines):\n",
    "          lanelines_image = np.zeros_like(image)\n",
    "          if lines is not None:\n",
    "            for line in lines:\n",
    "              X1, Y1, X2, Y2 = line.reshape(4)\n",
    "              cv2.line(lanelines_image, (X1, Y1), (X2, Y2), (255,0,0), 10)\n",
    "          return lanelines_image"
   ]
  },
  {
   "cell_type": "code",
   "execution_count": null,
   "metadata": {},
   "outputs": [],
   "source": [
    "def reg_of_interest(image):\n",
    "          image_height = image.shape[0]\n",
    "          polygons = np.array([[(200, image_height), (1100, image_height), (551, 250)]])\n",
    "          image_mask = np.zeros_like(image)\n",
    "          cv2.fillPoly(image_mask, polygons, 255)\n",
    "          masking_image = cv2.bitwise_and(image,image_mask)\n",
    "          return masking_image"
   ]
  },
  {
   "cell_type": "code",
   "execution_count": null,
   "metadata": {},
   "outputs": [],
   "source": [
    "image = cv2.imread('test_image.jpg')"
   ]
  },
  {
   "cell_type": "code",
   "execution_count": null,
   "metadata": {},
   "outputs": [],
   "source": [
    "lanelines_image = np.copy(image)"
   ]
  },
  {
   "cell_type": "code",
   "execution_count": null,
   "metadata": {},
   "outputs": [],
   "source": [
    "canny_image = canny_edge(lanelines_image)"
   ]
  },
  {
   "cell_type": "code",
   "execution_count": null,
   "metadata": {},
   "outputs": [],
   "source": [
    "cropped_image = reg_of_interest(canny_image)"
   ]
  },
  {
   "cell_type": "code",
   "execution_count": null,
   "metadata": {},
   "outputs": [],
   "source": [
    "lines = cv2.HoughLinesP(cropped_image, 2, np.pi/180, 100, np.array([]), minLineLength= 40, maxLineGap=5)"
   ]
  },
  {
   "cell_type": "code",
   "execution_count": null,
   "metadata": {},
   "outputs": [],
   "source": [
    "averaged_lines = average_slope_intercept(lanelines_image, lines)"
   ]
  },
  {
   "cell_type": "code",
   "execution_count": null,
   "metadata": {},
   "outputs": [],
   "source": [
    "line_image = show_lines(lanelines_image, averaged_lines)"
   ]
  },
  {
   "cell_type": "code",
   "execution_count": null,
   "metadata": {},
   "outputs": [],
   "source": [
    "combine_image = cv2.addWeighted(lanelines_image, 0.8, line_image, 1, 1)"
   ]
  },
  {
   "cell_type": "code",
   "execution_count": null,
   "metadata": {},
   "outputs": [],
   "source": [
    "cv2.imshow('result', combine_image)\n",
    "cv2.waitKey(0)\n",
    "cv2.destroyAllWindows()"
   ]
  },
  {
   "cell_type": "markdown",
   "metadata": {},
   "source": [
    "### Detecting road markings in video"
   ]
  },
  {
   "cell_type": "code",
   "execution_count": null,
   "metadata": {},
   "outputs": [],
   "source": [
    "#Detecting road markings in video\n",
    "\n",
    "import cv2\n",
    "import numpy as np\n",
    "import matplotlib.pyplot as plt"
   ]
  },
  {
   "cell_type": "code",
   "execution_count": null,
   "metadata": {},
   "outputs": [],
   "source": [
    "def make_coordinates(image, line_parameters):\n",
    "          try:\n",
    "            slope, intercept = line_parameters\n",
    "          except TypeError:\n",
    "            slope, intercept = 0.001,0\n",
    "          #slope, intercept = line_parameters\n",
    "          y1 = image.shape[0]\n",
    "          y2 = int(y1*(3/5))\n",
    "          x1 = int((y1- intercept)/slope)\n",
    "          x2 = int((y2 - intercept)/slope)\n",
    "          return np.array([x1, y1, x2, y2])"
   ]
  },
  {
   "cell_type": "code",
   "execution_count": null,
   "metadata": {},
   "outputs": [],
   "source": [
    "def average_slope_intercept(image, lines):\n",
    "          left_fit = []\n",
    "          right_fit = []\n",
    "          for line in lines:\n",
    "            x1, y1, x2, y2 = line.reshape(4)\n",
    "            parameter = np.polyfit((x1, x2), (y1, y2), 1)\n",
    "            slope = parameter[0]\n",
    "            intercept = parameter[1]\n",
    "            if slope < 0:\n",
    "              left_fit.append((slope, intercept))\n",
    "            else:\n",
    "              right_fit.append((slope, intercept))\n",
    "          left_fit_average =np.average(left_fit, axis=0)\n",
    "          right_fit_average = np.average(right_fit, axis =0)\n",
    "          left_line =make_coordinates(image, left_fit_average)\n",
    "          right_line = make_coordinates(image, right_fit_average)\n",
    "  \n",
    "          return np.array([left_line, right_line])"
   ]
  },
  {
   "cell_type": "code",
   "execution_count": null,
   "metadata": {},
   "outputs": [],
   "source": [
    "def canny_edge(image):\n",
    "         gray_conversion= cv2.cvtColor(image, cv2.COLOR_RGB2GRAY)\n",
    "         blur_conversion = cv2.GaussianBlur(gray_conversion, (5,5),0)\n",
    "         canny_conversion = cv2.Canny(blur_conversion, 50,150)\n",
    "         return canny_conversion"
   ]
  },
  {
   "cell_type": "code",
   "execution_count": null,
   "metadata": {},
   "outputs": [],
   "source": [
    "def show_lines(image, lines):\n",
    "          line_image = np.zeros_like(image)\n",
    "          if lines is not None:\n",
    "            for line in lines:\n",
    "              x1, y1, x2, y2 = line.reshape(4)\n",
    "              cv2.line(line_image, (x1, y1), (x2, y2), (255,0,0), 10)\n",
    "          return line_image"
   ]
  },
  {
   "cell_type": "code",
   "execution_count": null,
   "metadata": {},
   "outputs": [],
   "source": [
    "def reg_of_interest(image):\n",
    "          image_height = image.shape[0]\n",
    "          polygons = np.array([[(200, image_height), (1100, image_height), (550, 250)]])\n",
    "          image_mask = np.zeros_like(image)\n",
    "          cv2.fillPoly(image_mask, polygons, 255)\n",
    "          masking_image = cv2.bitwise_and(image,image_mask)\n",
    "          return masking_image"
   ]
  },
  {
   "cell_type": "code",
   "execution_count": null,
   "metadata": {},
   "outputs": [],
   "source": [
    "cap = cv2.VideoCapture(\"test2.mp4\")"
   ]
  },
  {
   "cell_type": "code",
   "execution_count": null,
   "metadata": {},
   "outputs": [],
   "source": [
    "while(cap.isOpened()):\n",
    "            _, frame = cap.read()\n",
    "            canny_image = canny_edge(frame)\n",
    "            cropped_canny = reg_of_interest(canny_image)\n",
    "            lines = cv2.HoughLinesP(cropped_canny, 2, np.pi/180, 100,             np.array([]), minLineLength=40,maxLineGap=5)\n",
    "            averaged_lines = average_slope_intercept(frame, lines)\n",
    "            line_image = show_lines(frame, averaged_lines)\n",
    "            combo_image = cv2.addWeighted(frame, 0.8, line_image, 1, 1)\n",
    "            cv2.imshow(\"result\", combo_image)\n",
    "            if cv2.waitKey(1) & 0xFF == ord('q'):\n",
    "                break\n",
    "cap.release()\n",
    "cv2.waitKey(0)\n",
    "cv2.destroyAllWindows()"
   ]
  },
  {
   "cell_type": "code",
   "execution_count": null,
   "metadata": {},
   "outputs": [],
   "source": []
  }
 ],
 "metadata": {
  "kernelspec": {
   "display_name": "Python 3",
   "language": "python",
   "name": "python3"
  },
  "language_info": {
   "codemirror_mode": {
    "name": "ipython",
    "version": 3
   },
   "file_extension": ".py",
   "mimetype": "text/x-python",
   "name": "python",
   "nbconvert_exporter": "python",
   "pygments_lexer": "ipython3",
   "version": "3.7.6"
  }
 },
 "nbformat": 4,
 "nbformat_minor": 4
}
